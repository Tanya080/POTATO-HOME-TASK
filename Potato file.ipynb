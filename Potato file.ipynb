{
 "cells": [
  {
   "cell_type": "code",
   "execution_count": 13,
   "id": "e4ca3233-e1e8-4049-a106-45204bed98a3",
   "metadata": {},
   "outputs": [
    {
     "name": "stdout",
     "output_type": "stream",
     "text": [
      "Collecting flask\n",
      "  Downloading flask-3.0.3-py3-none-any.whl.metadata (3.2 kB)\n",
      "Collecting Werkzeug>=3.0.0 (from flask)\n",
      "  Downloading werkzeug-3.0.4-py3-none-any.whl.metadata (3.7 kB)\n",
      "Requirement already satisfied: Jinja2>=3.1.2 in c:\\users\\admin\\appdata\\local\\programs\\python\\python312\\lib\\site-packages (from flask) (3.1.4)\n",
      "Collecting itsdangerous>=2.1.2 (from flask)\n",
      "  Downloading itsdangerous-2.2.0-py3-none-any.whl.metadata (1.9 kB)\n",
      "Collecting click>=8.1.3 (from flask)\n",
      "  Downloading click-8.1.7-py3-none-any.whl.metadata (3.0 kB)\n",
      "Collecting blinker>=1.6.2 (from flask)\n",
      "  Downloading blinker-1.8.2-py3-none-any.whl.metadata (1.6 kB)\n",
      "Requirement already satisfied: colorama in c:\\users\\admin\\appdata\\local\\programs\\python\\python312\\lib\\site-packages (from click>=8.1.3->flask) (0.4.6)\n",
      "Requirement already satisfied: MarkupSafe>=2.0 in c:\\users\\admin\\appdata\\local\\programs\\python\\python312\\lib\\site-packages (from Jinja2>=3.1.2->flask) (2.1.5)\n",
      "Downloading flask-3.0.3-py3-none-any.whl (101 kB)\n",
      "Downloading blinker-1.8.2-py3-none-any.whl (9.5 kB)\n",
      "Downloading click-8.1.7-py3-none-any.whl (97 kB)\n",
      "Downloading itsdangerous-2.2.0-py3-none-any.whl (16 kB)\n",
      "Downloading werkzeug-3.0.4-py3-none-any.whl (227 kB)\n",
      "Installing collected packages: Werkzeug, itsdangerous, click, blinker, flask\n",
      "Successfully installed Werkzeug-3.0.4 blinker-1.8.2 click-8.1.7 flask-3.0.3 itsdangerous-2.2.0\n"
     ]
    }
   ],
   "source": [
    "!pip install flask"
   ]
  },
  {
   "cell_type": "code",
   "execution_count": 4,
   "id": "bf155fc3-9a4d-4316-8ce2-ea90cf06e1da",
   "metadata": {},
   "outputs": [],
   "source": [
    "import pandas as pd\n",
    "from pymongo import MongoClient"
   ]
  },
  {
   "cell_type": "code",
   "execution_count": 7,
   "id": "afb21ffc-6ccd-4179-bee7-784761f9f929",
   "metadata": {},
   "outputs": [],
   "source": [
    "client = MongoClient('localhost', 27017)\n",
    "db = client['twitter_db']\n",
    "collection = db['tweets']"
   ]
  },
  {
   "cell_type": "code",
   "execution_count": null,
   "id": "4fb93128-1137-4ad6-8c8c-043f385f670d",
   "metadata": {},
   "outputs": [],
   "source": [
    "file_path = 'correct_twitter_202102.tsv'\n",
    "chunk_size = 10000  # Adjust based on memory capacity\n",
    "for chunk in pd.read_csv(file_path, sep='\\t', chunksize=chunk_size):\n",
    "    # Convert chunk to dictionary and insert into MongoDB\n",
    "    collection.insert_many(chunk.to_dict('records'))"
   ]
  },
  {
   "cell_type": "code",
   "execution_count": 9,
   "id": "a0ccb2b0-e967-4ed6-a6a2-007103caf048",
   "metadata": {},
   "outputs": [],
   "source": [
    "from datetime import datetime\n",
    "\n",
    "def query_tweets(term):\n",
    "    # Convert term to regex for case insensitive search\n",
    "    query = {'text': {'$regex': term, '$options': 'i'}}\n",
    "    \n",
    "    # Daily Tweet Counts\n",
    "    daily_counts = collection.aggregate([\n",
    "        {'$match': query},\n",
    "        {'$group': {'_id': {'$dateToString': {'format': \"%Y-%m-%d\", 'date': \"$created_at\"}}, 'count': {'$sum': 1}}}\n",
    "    ])"
   ]
  },
  {
   "cell_type": "code",
   "execution_count": null,
   "id": "e3858549-f5b3-4145-b7bb-7a233e22fbb8",
   "metadata": {},
   "outputs": [],
   "source": [
    "\n",
    "    \n",
    "    # Unique Users\n",
    "    unique_users = collection.distinct('user_id', query)\n",
    "    \n",
    "    # Average Likes\n",
    "    average_likes = collection.aggregate([\n",
    "        {'$match': query},\n",
    "        {'$group': {'_id': None, 'averageLikes': {'$avg': '$likes'}}}\n",
    "    ])\n",
    "    \n",
    "    # Location Information\n",
    "    location_counts = collection.aggregate([\n",
    "        {'$match': query},\n",
    "        {'$group': {'_id': '$place_id', 'count': {'$sum': 1}}}\n",
    "    ])\n",
    "    \n",
    "    # Times of Day\n",
    "    time_of_day = collection.aggregate([\n",
    "        {'$match': query},\n",
    "        {'$group': {'_id': {'$hour': '$created_at'}, 'count': {'$sum': 1}}}\n",
    "    ])\n",
    "    \n",
    "    # Most Active User\n",
    "    most_active_user = collection.aggregate([\n",
    "        {'$match': query},\n",
    "        {'$group': {'_id': '$user_id', 'count': {'$sum': 1}}},\n",
    "        {'$sort': {'count': -1}},\n",
    "        {'$limit': 1}\n",
    "    ])\n",
    "    \n",
    "    return {\n",
    "        \"daily_counts\": list(daily_counts),\n",
    "        \"unique_users\": len(unique_users),\n",
    "        \"average_likes\": list(average_likes),\n",
    "        \"location_counts\": list(location_counts),\n",
    "        \"time_of_day\": list(time_of_day),\n",
    "        \"most_active_user\": list(most_active_user)\n",
    "    }\n"
   ]
  },
  {
   "cell_type": "code",
   "execution_count": null,
   "id": "2e0c88ce-3581-408e-af71-a5f7ae858417",
   "metadata": {},
   "outputs": [],
   "source": [
    "docker run --name mongodb -d -p 27017:27017 mongo"
   ]
  },
  {
   "cell_type": "code",
   "execution_count": null,
   "id": "c1ebfd1d-9616-42dc-b204-1a544737c5b2",
   "metadata": {},
   "outputs": [],
   "source": [
    "from flask import Flask, request, jsonify\n",
    "\n",
    "app = Flask(__name__)\n",
    "\n",
    "@app.route('/query', methods=['GET'])\n",
    "def query_api():\n",
    "    term = request.args.get('term')\n",
    "    results = query_tweets(term)\n",
    "    return jsonify(results)\n",
    "\n",
    "if __name__ == '__main__':\n",
    "    app.run(debug=True)\n"
   ]
  },
  {
   "cell_type": "code",
   "execution_count": null,
   "id": "45fcffec-cb34-44f6-8eb1-8a7f110d81cd",
   "metadata": {},
   "outputs": [],
   "source": []
  }
 ],
 "metadata": {
  "kernelspec": {
   "display_name": "Python 3 (ipykernel)",
   "language": "python",
   "name": "python3"
  },
  "language_info": {
   "codemirror_mode": {
    "name": "ipython",
    "version": 3
   },
   "file_extension": ".py",
   "mimetype": "text/x-python",
   "name": "python",
   "nbconvert_exporter": "python",
   "pygments_lexer": "ipython3",
   "version": "3.12.6"
  }
 },
 "nbformat": 4,
 "nbformat_minor": 5
}
